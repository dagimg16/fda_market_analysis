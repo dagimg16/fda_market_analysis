{
 "cells": [
  {
   "cell_type": "code",
   "execution_count": 118,
   "id": "a3e46434-ba3c-4970-9d0d-1f3db447999d",
   "metadata": {},
   "outputs": [],
   "source": [
    "import pandas as pd\n",
    "import matplotlib.pyplot as plt"
   ]
  },
  {
   "cell_type": "code",
   "execution_count": 10,
   "id": "c33e0c85-9320-4081-9d32-67e01e74abe2",
   "metadata": {},
   "outputs": [],
   "source": [
    "df = pd.read_csv('historical_approvals.csv')"
   ]
  },
  {
   "cell_type": "code",
   "execution_count": 14,
   "id": "128e78cc-9d8a-46fd-a4a6-28b9dde56749",
   "metadata": {},
   "outputs": [
    {
     "data": {
      "text/plain": [
       "(3217, 7)"
      ]
     },
     "execution_count": 14,
     "metadata": {},
     "output_type": "execute_result"
    }
   ],
   "source": [
    "df.shape"
   ]
  },
  {
   "cell_type": "code",
   "execution_count": 8,
   "id": "b4ec2b70-2005-4c08-a8d4-fdb850125009",
   "metadata": {},
   "outputs": [
    {
     "data": {
      "text/html": [
       "<div>\n",
       "<style scoped>\n",
       "    .dataframe tbody tr th:only-of-type {\n",
       "        vertical-align: middle;\n",
       "    }\n",
       "\n",
       "    .dataframe tbody tr th {\n",
       "        vertical-align: top;\n",
       "    }\n",
       "\n",
       "    .dataframe thead th {\n",
       "        text-align: right;\n",
       "    }\n",
       "</style>\n",
       "<table border=\"1\" class=\"dataframe\">\n",
       "  <thead>\n",
       "    <tr style=\"text-align: right;\">\n",
       "      <th></th>\n",
       "      <th>company</th>\n",
       "      <th>drug_name</th>\n",
       "      <th>submission_type</th>\n",
       "      <th>submission_number</th>\n",
       "      <th>submission_status</th>\n",
       "      <th>submission_status_date</th>\n",
       "      <th>submission_class_code</th>\n",
       "    </tr>\n",
       "  </thead>\n",
       "  <tbody>\n",
       "    <tr>\n",
       "      <th>0</th>\n",
       "      <td>LUPIN PHARMS</td>\n",
       "      <td>DESLORATADINE</td>\n",
       "      <td>ORIG</td>\n",
       "      <td>1</td>\n",
       "      <td>AP</td>\n",
       "      <td>20101025</td>\n",
       "      <td>NaN</td>\n",
       "    </tr>\n",
       "    <tr>\n",
       "      <th>1</th>\n",
       "      <td>LUPIN PHARMS</td>\n",
       "      <td>DESLORATADINE</td>\n",
       "      <td>SUPPL</td>\n",
       "      <td>7</td>\n",
       "      <td>AP</td>\n",
       "      <td>20191022</td>\n",
       "      <td>LABELING</td>\n",
       "    </tr>\n",
       "    <tr>\n",
       "      <th>2</th>\n",
       "      <td>LUPIN PHARMS</td>\n",
       "      <td>DESLORATADINE</td>\n",
       "      <td>SUPPL</td>\n",
       "      <td>5</td>\n",
       "      <td>AP</td>\n",
       "      <td>20191022</td>\n",
       "      <td>LABELING</td>\n",
       "    </tr>\n",
       "    <tr>\n",
       "      <th>3</th>\n",
       "      <td>AIPING PHARM INC</td>\n",
       "      <td>LAMOTRIGINE</td>\n",
       "      <td>SUPPL</td>\n",
       "      <td>12</td>\n",
       "      <td>AP</td>\n",
       "      <td>20220118</td>\n",
       "      <td>LABELING</td>\n",
       "    </tr>\n",
       "    <tr>\n",
       "      <th>4</th>\n",
       "      <td>AIPING PHARM INC</td>\n",
       "      <td>LAMOTRIGINE</td>\n",
       "      <td>SUPPL</td>\n",
       "      <td>10</td>\n",
       "      <td>AP</td>\n",
       "      <td>20220118</td>\n",
       "      <td>LABELING</td>\n",
       "    </tr>\n",
       "  </tbody>\n",
       "</table>\n",
       "</div>"
      ],
      "text/plain": [
       "            company      drug_name submission_type  submission_number  \\\n",
       "0      LUPIN PHARMS  DESLORATADINE            ORIG                  1   \n",
       "1      LUPIN PHARMS  DESLORATADINE           SUPPL                  7   \n",
       "2      LUPIN PHARMS  DESLORATADINE           SUPPL                  5   \n",
       "3  AIPING PHARM INC    LAMOTRIGINE           SUPPL                 12   \n",
       "4  AIPING PHARM INC    LAMOTRIGINE           SUPPL                 10   \n",
       "\n",
       "  submission_status  submission_status_date submission_class_code  \n",
       "0                AP                20101025                   NaN  \n",
       "1                AP                20191022              LABELING  \n",
       "2                AP                20191022              LABELING  \n",
       "3                AP                20220118              LABELING  \n",
       "4                AP                20220118              LABELING  "
      ]
     },
     "execution_count": 8,
     "metadata": {},
     "output_type": "execute_result"
    }
   ],
   "source": [
    "df.head()"
   ]
  },
  {
   "cell_type": "code",
   "execution_count": 6,
   "id": "a354e445-bb70-4256-b27e-71a75c09ec90",
   "metadata": {},
   "outputs": [
    {
     "data": {
      "text/html": [
       "<div>\n",
       "<style scoped>\n",
       "    .dataframe tbody tr th:only-of-type {\n",
       "        vertical-align: middle;\n",
       "    }\n",
       "\n",
       "    .dataframe tbody tr th {\n",
       "        vertical-align: top;\n",
       "    }\n",
       "\n",
       "    .dataframe thead th {\n",
       "        text-align: right;\n",
       "    }\n",
       "</style>\n",
       "<table border=\"1\" class=\"dataframe\">\n",
       "  <thead>\n",
       "    <tr style=\"text-align: right;\">\n",
       "      <th></th>\n",
       "      <th>company</th>\n",
       "      <th>drug_name</th>\n",
       "      <th>submission_type</th>\n",
       "      <th>submission_number</th>\n",
       "      <th>submission_status</th>\n",
       "      <th>submission_status_date</th>\n",
       "      <th>submission_class_code</th>\n",
       "    </tr>\n",
       "  </thead>\n",
       "  <tbody>\n",
       "    <tr>\n",
       "      <th>3064</th>\n",
       "      <td>IPCA LABS LTD</td>\n",
       "      <td>LOSARTAN POTASSIUM AND HYDROCHLOROTHIAZIDE</td>\n",
       "      <td>SUPPL</td>\n",
       "      <td>8</td>\n",
       "      <td>AP</td>\n",
       "      <td>20220829</td>\n",
       "      <td>LABELING</td>\n",
       "    </tr>\n",
       "    <tr>\n",
       "      <th>1652</th>\n",
       "      <td>SHIRE HUMAN GENETIC</td>\n",
       "      <td>VPRIV</td>\n",
       "      <td>SUPPL</td>\n",
       "      <td>9</td>\n",
       "      <td>AP</td>\n",
       "      <td>20130326</td>\n",
       "      <td>LABELING</td>\n",
       "    </tr>\n",
       "    <tr>\n",
       "      <th>1148</th>\n",
       "      <td>GE HEALTHCARE</td>\n",
       "      <td>HYPAQUE</td>\n",
       "      <td>SUPPL</td>\n",
       "      <td>18</td>\n",
       "      <td>AP</td>\n",
       "      <td>19760625</td>\n",
       "      <td>LABELING</td>\n",
       "    </tr>\n",
       "    <tr>\n",
       "      <th>570</th>\n",
       "      <td>TEVA</td>\n",
       "      <td>TORSEMIDE</td>\n",
       "      <td>ORIG</td>\n",
       "      <td>1</td>\n",
       "      <td>AP</td>\n",
       "      <td>20020514</td>\n",
       "      <td>NaN</td>\n",
       "    </tr>\n",
       "    <tr>\n",
       "      <th>3141</th>\n",
       "      <td>MALLINCKRODT IRELAND</td>\n",
       "      <td>ACTHAR GEL</td>\n",
       "      <td>SUPPL</td>\n",
       "      <td>16</td>\n",
       "      <td>AP</td>\n",
       "      <td>19771005</td>\n",
       "      <td>LABELING</td>\n",
       "    </tr>\n",
       "    <tr>\n",
       "      <th>2591</th>\n",
       "      <td>SCIEGEN PHARMS INC</td>\n",
       "      <td>FLUOXETINE HYDROCHLORIDE</td>\n",
       "      <td>ORIG</td>\n",
       "      <td>1</td>\n",
       "      <td>AP</td>\n",
       "      <td>20020627</td>\n",
       "      <td>NaN</td>\n",
       "    </tr>\n",
       "    <tr>\n",
       "      <th>518</th>\n",
       "      <td>HOSPIRA</td>\n",
       "      <td>METHYLDOPATE HYDROCHLORIDE</td>\n",
       "      <td>SUPPL</td>\n",
       "      <td>13</td>\n",
       "      <td>AP</td>\n",
       "      <td>19941103</td>\n",
       "      <td>LABELING</td>\n",
       "    </tr>\n",
       "    <tr>\n",
       "      <th>2230</th>\n",
       "      <td>ROXANE</td>\n",
       "      <td>ORLAAM</td>\n",
       "      <td>SUPPL</td>\n",
       "      <td>2</td>\n",
       "      <td>AP</td>\n",
       "      <td>19970716</td>\n",
       "      <td>MANUF (CMC)</td>\n",
       "    </tr>\n",
       "    <tr>\n",
       "      <th>228</th>\n",
       "      <td>BOEHRINGER INGELHEIM</td>\n",
       "      <td>ATROVENT</td>\n",
       "      <td>SUPPL</td>\n",
       "      <td>4</td>\n",
       "      <td>AP</td>\n",
       "      <td>19890316</td>\n",
       "      <td>LABELING</td>\n",
       "    </tr>\n",
       "    <tr>\n",
       "      <th>3051</th>\n",
       "      <td>HOSPIRA</td>\n",
       "      <td>AMINOPHYLLINE</td>\n",
       "      <td>SUPPL</td>\n",
       "      <td>11</td>\n",
       "      <td>AP</td>\n",
       "      <td>19981201</td>\n",
       "      <td>MANUF (CMC)</td>\n",
       "    </tr>\n",
       "  </tbody>\n",
       "</table>\n",
       "</div>"
      ],
      "text/plain": [
       "                   company                                   drug_name  \\\n",
       "3064         IPCA LABS LTD  LOSARTAN POTASSIUM AND HYDROCHLOROTHIAZIDE   \n",
       "1652   SHIRE HUMAN GENETIC                                       VPRIV   \n",
       "1148         GE HEALTHCARE                                     HYPAQUE   \n",
       "570                   TEVA                                   TORSEMIDE   \n",
       "3141  MALLINCKRODT IRELAND                                  ACTHAR GEL   \n",
       "2591    SCIEGEN PHARMS INC                    FLUOXETINE HYDROCHLORIDE   \n",
       "518                HOSPIRA                  METHYLDOPATE HYDROCHLORIDE   \n",
       "2230                ROXANE                                      ORLAAM   \n",
       "228   BOEHRINGER INGELHEIM                                    ATROVENT   \n",
       "3051               HOSPIRA                               AMINOPHYLLINE   \n",
       "\n",
       "     submission_type  submission_number submission_status  \\\n",
       "3064           SUPPL                  8                AP   \n",
       "1652           SUPPL                  9                AP   \n",
       "1148           SUPPL                 18                AP   \n",
       "570             ORIG                  1                AP   \n",
       "3141           SUPPL                 16                AP   \n",
       "2591            ORIG                  1                AP   \n",
       "518            SUPPL                 13                AP   \n",
       "2230           SUPPL                  2                AP   \n",
       "228            SUPPL                  4                AP   \n",
       "3051           SUPPL                 11                AP   \n",
       "\n",
       "      submission_status_date submission_class_code  \n",
       "3064                20220829              LABELING  \n",
       "1652                20130326              LABELING  \n",
       "1148                19760625              LABELING  \n",
       "570                 20020514                   NaN  \n",
       "3141                19771005              LABELING  \n",
       "2591                20020627                   NaN  \n",
       "518                 19941103              LABELING  \n",
       "2230                19970716           MANUF (CMC)  \n",
       "228                 19890316              LABELING  \n",
       "3051                19981201           MANUF (CMC)  "
      ]
     },
     "execution_count": 6,
     "metadata": {},
     "output_type": "execute_result"
    }
   ],
   "source": [
    "df.sample(10)"
   ]
  },
  {
   "cell_type": "code",
   "execution_count": 18,
   "id": "ce6bed17-b898-4cab-a79d-3c5aa7dd1265",
   "metadata": {},
   "outputs": [
    {
     "data": {
      "text/plain": [
       "array(['ORIG', 'SUPPL'], dtype=object)"
      ]
     },
     "execution_count": 18,
     "metadata": {},
     "output_type": "execute_result"
    }
   ],
   "source": [
    "df['submission_type'].unique()"
   ]
  },
  {
   "cell_type": "code",
   "execution_count": 22,
   "id": "a0b56acf-d57e-426c-995d-25275a6d99ea",
   "metadata": {},
   "outputs": [
    {
     "data": {
      "text/html": [
       "<div>\n",
       "<style scoped>\n",
       "    .dataframe tbody tr th:only-of-type {\n",
       "        vertical-align: middle;\n",
       "    }\n",
       "\n",
       "    .dataframe tbody tr th {\n",
       "        vertical-align: top;\n",
       "    }\n",
       "\n",
       "    .dataframe thead th {\n",
       "        text-align: right;\n",
       "    }\n",
       "</style>\n",
       "<table border=\"1\" class=\"dataframe\">\n",
       "  <thead>\n",
       "    <tr style=\"text-align: right;\">\n",
       "      <th></th>\n",
       "      <th>company</th>\n",
       "      <th>drug_name</th>\n",
       "      <th>submission_type</th>\n",
       "      <th>submission_number</th>\n",
       "      <th>submission_status</th>\n",
       "      <th>submission_status_date</th>\n",
       "      <th>submission_class_code</th>\n",
       "    </tr>\n",
       "  </thead>\n",
       "  <tbody>\n",
       "    <tr>\n",
       "      <th>0</th>\n",
       "      <td>LUPIN PHARMS</td>\n",
       "      <td>DESLORATADINE</td>\n",
       "      <td>ORIG</td>\n",
       "      <td>1</td>\n",
       "      <td>AP</td>\n",
       "      <td>20101025</td>\n",
       "      <td>NaN</td>\n",
       "    </tr>\n",
       "    <tr>\n",
       "      <th>8</th>\n",
       "      <td>AIPING PHARM INC</td>\n",
       "      <td>LAMOTRIGINE</td>\n",
       "      <td>ORIG</td>\n",
       "      <td>1</td>\n",
       "      <td>AP</td>\n",
       "      <td>20090127</td>\n",
       "      <td>NaN</td>\n",
       "    </tr>\n",
       "    <tr>\n",
       "      <th>9</th>\n",
       "      <td>CHARTWELL RX</td>\n",
       "      <td>IRINOTECAN HYDROCHLORIDE</td>\n",
       "      <td>ORIG</td>\n",
       "      <td>1</td>\n",
       "      <td>AP</td>\n",
       "      <td>20100415</td>\n",
       "      <td>NaN</td>\n",
       "    </tr>\n",
       "    <tr>\n",
       "      <th>15</th>\n",
       "      <td>DR REDDYS LABS INC</td>\n",
       "      <td>NEFAZODONE HYDROCHLORIDE</td>\n",
       "      <td>ORIG</td>\n",
       "      <td>1</td>\n",
       "      <td>AP</td>\n",
       "      <td>20030916</td>\n",
       "      <td>NaN</td>\n",
       "    </tr>\n",
       "    <tr>\n",
       "      <th>16</th>\n",
       "      <td>HIKMA</td>\n",
       "      <td>FENOLDOPAM MESYLATE</td>\n",
       "      <td>ORIG</td>\n",
       "      <td>1</td>\n",
       "      <td>AP</td>\n",
       "      <td>20041012</td>\n",
       "      <td>NaN</td>\n",
       "    </tr>\n",
       "    <tr>\n",
       "      <th>...</th>\n",
       "      <td>...</td>\n",
       "      <td>...</td>\n",
       "      <td>...</td>\n",
       "      <td>...</td>\n",
       "      <td>...</td>\n",
       "      <td>...</td>\n",
       "      <td>...</td>\n",
       "    </tr>\n",
       "    <tr>\n",
       "      <th>3211</th>\n",
       "      <td>MSN LABS PVT LTD</td>\n",
       "      <td>MACITENTAN</td>\n",
       "      <td>ORIG</td>\n",
       "      <td>1</td>\n",
       "      <td>TA</td>\n",
       "      <td>20230224</td>\n",
       "      <td>UNKNOWN</td>\n",
       "    </tr>\n",
       "    <tr>\n",
       "      <th>3212</th>\n",
       "      <td>TARO PHARM INDS LTD</td>\n",
       "      <td>NaN</td>\n",
       "      <td>ORIG</td>\n",
       "      <td>1</td>\n",
       "      <td>TA</td>\n",
       "      <td>20250116</td>\n",
       "      <td>UNKNOWN</td>\n",
       "    </tr>\n",
       "    <tr>\n",
       "      <th>3213</th>\n",
       "      <td>TORRENT</td>\n",
       "      <td>APREMILAST</td>\n",
       "      <td>ORIG</td>\n",
       "      <td>1</td>\n",
       "      <td>AP</td>\n",
       "      <td>20250620</td>\n",
       "      <td>UNKNOWN</td>\n",
       "    </tr>\n",
       "    <tr>\n",
       "      <th>3214</th>\n",
       "      <td>LABORATORIOS GRIFOLS</td>\n",
       "      <td>SODIUM CHLORIDE 0.9% IN PLASTIC CONTAINER</td>\n",
       "      <td>ORIG</td>\n",
       "      <td>1</td>\n",
       "      <td>AP</td>\n",
       "      <td>20170525</td>\n",
       "      <td>UNKNOWN</td>\n",
       "    </tr>\n",
       "    <tr>\n",
       "      <th>3216</th>\n",
       "      <td>GLENMARK SPECLT</td>\n",
       "      <td>TRIAMCINOLONE ACETONIDE</td>\n",
       "      <td>ORIG</td>\n",
       "      <td>1</td>\n",
       "      <td>AP</td>\n",
       "      <td>20170822</td>\n",
       "      <td>UNKNOWN</td>\n",
       "    </tr>\n",
       "  </tbody>\n",
       "</table>\n",
       "<p>433 rows × 7 columns</p>\n",
       "</div>"
      ],
      "text/plain": [
       "                   company                                  drug_name  \\\n",
       "0             LUPIN PHARMS                              DESLORATADINE   \n",
       "8         AIPING PHARM INC                                LAMOTRIGINE   \n",
       "9             CHARTWELL RX                   IRINOTECAN HYDROCHLORIDE   \n",
       "15      DR REDDYS LABS INC                   NEFAZODONE HYDROCHLORIDE   \n",
       "16                   HIKMA                        FENOLDOPAM MESYLATE   \n",
       "...                    ...                                        ...   \n",
       "3211      MSN LABS PVT LTD                                 MACITENTAN   \n",
       "3212   TARO PHARM INDS LTD                                        NaN   \n",
       "3213               TORRENT                                 APREMILAST   \n",
       "3214  LABORATORIOS GRIFOLS  SODIUM CHLORIDE 0.9% IN PLASTIC CONTAINER   \n",
       "3216       GLENMARK SPECLT                    TRIAMCINOLONE ACETONIDE   \n",
       "\n",
       "     submission_type  submission_number submission_status  \\\n",
       "0               ORIG                  1                AP   \n",
       "8               ORIG                  1                AP   \n",
       "9               ORIG                  1                AP   \n",
       "15              ORIG                  1                AP   \n",
       "16              ORIG                  1                AP   \n",
       "...              ...                ...               ...   \n",
       "3211            ORIG                  1                TA   \n",
       "3212            ORIG                  1                TA   \n",
       "3213            ORIG                  1                AP   \n",
       "3214            ORIG                  1                AP   \n",
       "3216            ORIG                  1                AP   \n",
       "\n",
       "      submission_status_date submission_class_code  \n",
       "0                   20101025                   NaN  \n",
       "8                   20090127                   NaN  \n",
       "9                   20100415                   NaN  \n",
       "15                  20030916                   NaN  \n",
       "16                  20041012                   NaN  \n",
       "...                      ...                   ...  \n",
       "3211                20230224               UNKNOWN  \n",
       "3212                20250116               UNKNOWN  \n",
       "3213                20250620               UNKNOWN  \n",
       "3214                20170525               UNKNOWN  \n",
       "3216                20170822               UNKNOWN  \n",
       "\n",
       "[433 rows x 7 columns]"
      ]
     },
     "execution_count": 22,
     "metadata": {},
     "output_type": "execute_result"
    }
   ],
   "source": [
    "#Extract only 'ORIG' submission type \n",
    "df[df['submission_type'] == 'ORIG']"
   ]
  },
  {
   "cell_type": "code",
   "execution_count": 24,
   "id": "8596420d-85ca-4658-9d36-506bb0e4b866",
   "metadata": {},
   "outputs": [],
   "source": [
    "df1 = df[df['submission_type'] == 'ORIG']"
   ]
  },
  {
   "cell_type": "code",
   "execution_count": 28,
   "id": "0f4bddc6-f830-4b46-92c9-2a08e98bcc6d",
   "metadata": {},
   "outputs": [
    {
     "name": "stdout",
     "output_type": "stream",
     "text": [
      "<class 'pandas.core.frame.DataFrame'>\n",
      "Index: 433 entries, 0 to 3216\n",
      "Data columns (total 7 columns):\n",
      " #   Column                  Non-Null Count  Dtype \n",
      "---  ------                  --------------  ----- \n",
      " 0   company                 433 non-null    object\n",
      " 1   drug_name               425 non-null    object\n",
      " 2   submission_type         433 non-null    object\n",
      " 3   submission_number       433 non-null    int64 \n",
      " 4   submission_status       433 non-null    object\n",
      " 5   submission_status_date  433 non-null    int64 \n",
      " 6   submission_class_code   237 non-null    object\n",
      "dtypes: int64(2), object(5)\n",
      "memory usage: 27.1+ KB\n"
     ]
    }
   ],
   "source": [
    "df1.info()"
   ]
  },
  {
   "cell_type": "code",
   "execution_count": 40,
   "id": "27c56271-b456-4321-b72b-c55256210ff1",
   "metadata": {},
   "outputs": [
    {
     "data": {
      "text/plain": [
       "company                     0\n",
       "drug_name                   8\n",
       "submission_type             0\n",
       "submission_number           0\n",
       "submission_status           0\n",
       "submission_status_date      0\n",
       "submission_class_code     196\n",
       "dtype: int64"
      ]
     },
     "execution_count": 40,
     "metadata": {},
     "output_type": "execute_result"
    }
   ],
   "source": [
    "df1.isnull().sum()"
   ]
  },
  {
   "cell_type": "code",
   "execution_count": 44,
   "id": "60c100af-5dcc-49b5-bc1e-8f3f8e1afa85",
   "metadata": {},
   "outputs": [],
   "source": [
    "#drop missing value from drug_name\n",
    "df1 = df1.dropna(subset=['drug_name'])"
   ]
  },
  {
   "cell_type": "code",
   "execution_count": 48,
   "id": "b4e0e97e-9599-406b-8340-3f6d789b091e",
   "metadata": {},
   "outputs": [
    {
     "data": {
      "text/plain": [
       "array([nan, 'TYPE 3', 'TYPE 1', 'UNKNOWN', 'TYPE 5', 'TYPE 6', 'TYPE 4',\n",
       "       'TYPE 2/4', 'TYPE 2', 'EFFICACY', 'TYPE 1/4', 'TYPE 9'],\n",
       "      dtype=object)"
      ]
     },
     "execution_count": 48,
     "metadata": {},
     "output_type": "execute_result"
    }
   ],
   "source": [
    "df1['submission_class_code'].unique()"
   ]
  },
  {
   "cell_type": "code",
   "execution_count": 50,
   "id": "c3426fb3-9953-42d2-bfa5-5d4b189a4c03",
   "metadata": {},
   "outputs": [
    {
     "data": {
      "text/plain": [
       "submission_class_code\n",
       "EFFICACY      2\n",
       "TYPE 1       25\n",
       "TYPE 1/4      1\n",
       "TYPE 2        2\n",
       "TYPE 2/4      1\n",
       "TYPE 3       29\n",
       "TYPE 4        4\n",
       "TYPE 5       21\n",
       "TYPE 6        1\n",
       "TYPE 9        1\n",
       "UNKNOWN     142\n",
       "Name: submission_class_code, dtype: int64"
      ]
     },
     "execution_count": 50,
     "metadata": {},
     "output_type": "execute_result"
    }
   ],
   "source": [
    "df1.groupby('submission_class_code')['submission_class_code'].count()"
   ]
  },
  {
   "cell_type": "code",
   "execution_count": 68,
   "id": "73edddf3-2bed-4d0a-94b9-cd3d509cd291",
   "metadata": {},
   "outputs": [],
   "source": [
    "#drop submission_class_code column\n",
    "df1 = df1[['company', 'drug_name', 'submission_type', 'submission_number',\n",
    "       'submission_status', 'submission_status_date']]"
   ]
  },
  {
   "cell_type": "code",
   "execution_count": 72,
   "id": "c66428a2-ecf9-4c52-8a9f-5aeadf1add8d",
   "metadata": {},
   "outputs": [
    {
     "data": {
      "text/plain": [
       "company                   object\n",
       "drug_name                 object\n",
       "submission_type           object\n",
       "submission_number          int64\n",
       "submission_status         object\n",
       "submission_status_date     int64\n",
       "dtype: object"
      ]
     },
     "execution_count": 72,
     "metadata": {},
     "output_type": "execute_result"
    }
   ],
   "source": [
    "df1.dtypes"
   ]
  },
  {
   "cell_type": "code",
   "execution_count": 76,
   "id": "b20793c9-ee38-411d-947f-4ee7e8f58d88",
   "metadata": {},
   "outputs": [
    {
     "name": "stderr",
     "output_type": "stream",
     "text": [
      "C:\\Users\\dagim\\AppData\\Local\\Temp\\ipykernel_19484\\2395442932.py:1: SettingWithCopyWarning: \n",
      "A value is trying to be set on a copy of a slice from a DataFrame.\n",
      "Try using .loc[row_indexer,col_indexer] = value instead\n",
      "\n",
      "See the caveats in the documentation: https://pandas.pydata.org/pandas-docs/stable/user_guide/indexing.html#returning-a-view-versus-a-copy\n",
      "  df1['submission_status_date'] = pd.to_datetime(df1['submission_status_date'], format='%Y%m%d', errors='coerce')\n"
     ]
    }
   ],
   "source": [
    "df1['submission_status_date'] = pd.to_datetime(df1['submission_status_date'], format='%Y%m%d', errors='coerce')"
   ]
  },
  {
   "cell_type": "code",
   "execution_count": 84,
   "id": "4f3bfbcf-30d5-449a-b047-3a36ae2c600a",
   "metadata": {},
   "outputs": [
    {
     "data": {
      "text/plain": [
       "company                   0\n",
       "drug_name                 0\n",
       "submission_type           0\n",
       "submission_number         0\n",
       "submission_status         0\n",
       "submission_status_date    0\n",
       "dtype: int64"
      ]
     },
     "execution_count": 84,
     "metadata": {},
     "output_type": "execute_result"
    }
   ],
   "source": [
    "df1.isnull().sum()"
   ]
  },
  {
   "cell_type": "code",
   "execution_count": 90,
   "id": "63b8cc37-b7fb-4340-b667-2767fede79ab",
   "metadata": {},
   "outputs": [],
   "source": [
    "df1.reset_index(inplace=True)"
   ]
  },
  {
   "cell_type": "code",
   "execution_count": 100,
   "id": "8921a7f3-3f59-403a-bfd4-567e48294cac",
   "metadata": {},
   "outputs": [
    {
     "data": {
      "text/html": [
       "<div>\n",
       "<style scoped>\n",
       "    .dataframe tbody tr th:only-of-type {\n",
       "        vertical-align: middle;\n",
       "    }\n",
       "\n",
       "    .dataframe tbody tr th {\n",
       "        vertical-align: top;\n",
       "    }\n",
       "\n",
       "    .dataframe thead th {\n",
       "        text-align: right;\n",
       "    }\n",
       "</style>\n",
       "<table border=\"1\" class=\"dataframe\">\n",
       "  <thead>\n",
       "    <tr style=\"text-align: right;\">\n",
       "      <th></th>\n",
       "      <th>company</th>\n",
       "      <th>drug_name</th>\n",
       "      <th>submission_type</th>\n",
       "      <th>submission_number</th>\n",
       "      <th>submission_status</th>\n",
       "      <th>submission_status_date</th>\n",
       "    </tr>\n",
       "  </thead>\n",
       "  <tbody>\n",
       "    <tr>\n",
       "      <th>0</th>\n",
       "      <td>LUPIN PHARMS</td>\n",
       "      <td>DESLORATADINE</td>\n",
       "      <td>ORIG</td>\n",
       "      <td>1</td>\n",
       "      <td>AP</td>\n",
       "      <td>2010-10-25</td>\n",
       "    </tr>\n",
       "    <tr>\n",
       "      <th>1</th>\n",
       "      <td>AIPING PHARM INC</td>\n",
       "      <td>LAMOTRIGINE</td>\n",
       "      <td>ORIG</td>\n",
       "      <td>1</td>\n",
       "      <td>AP</td>\n",
       "      <td>2009-01-27</td>\n",
       "    </tr>\n",
       "    <tr>\n",
       "      <th>2</th>\n",
       "      <td>CHARTWELL RX</td>\n",
       "      <td>IRINOTECAN HYDROCHLORIDE</td>\n",
       "      <td>ORIG</td>\n",
       "      <td>1</td>\n",
       "      <td>AP</td>\n",
       "      <td>2010-04-15</td>\n",
       "    </tr>\n",
       "    <tr>\n",
       "      <th>3</th>\n",
       "      <td>DR REDDYS LABS INC</td>\n",
       "      <td>NEFAZODONE HYDROCHLORIDE</td>\n",
       "      <td>ORIG</td>\n",
       "      <td>1</td>\n",
       "      <td>AP</td>\n",
       "      <td>2003-09-16</td>\n",
       "    </tr>\n",
       "    <tr>\n",
       "      <th>4</th>\n",
       "      <td>HIKMA</td>\n",
       "      <td>FENOLDOPAM MESYLATE</td>\n",
       "      <td>ORIG</td>\n",
       "      <td>1</td>\n",
       "      <td>AP</td>\n",
       "      <td>2004-10-12</td>\n",
       "    </tr>\n",
       "  </tbody>\n",
       "</table>\n",
       "</div>"
      ],
      "text/plain": [
       "              company                 drug_name submission_type  \\\n",
       "0        LUPIN PHARMS             DESLORATADINE            ORIG   \n",
       "1    AIPING PHARM INC               LAMOTRIGINE            ORIG   \n",
       "2        CHARTWELL RX  IRINOTECAN HYDROCHLORIDE            ORIG   \n",
       "3  DR REDDYS LABS INC  NEFAZODONE HYDROCHLORIDE            ORIG   \n",
       "4               HIKMA       FENOLDOPAM MESYLATE            ORIG   \n",
       "\n",
       "   submission_number submission_status submission_status_date  \n",
       "0                  1                AP             2010-10-25  \n",
       "1                  1                AP             2009-01-27  \n",
       "2                  1                AP             2010-04-15  \n",
       "3                  1                AP             2003-09-16  \n",
       "4                  1                AP             2004-10-12  "
      ]
     },
     "execution_count": 100,
     "metadata": {},
     "output_type": "execute_result"
    }
   ],
   "source": [
    "df1.head()"
   ]
  },
  {
   "cell_type": "code",
   "execution_count": 112,
   "id": "537eff66-39d2-4879-b65b-06199ef2858a",
   "metadata": {},
   "outputs": [
    {
     "data": {
      "text/plain": [
       "company      246\n",
       "drug_name    341\n",
       "dtype: int64"
      ]
     },
     "execution_count": 112,
     "metadata": {},
     "output_type": "execute_result"
    }
   ],
   "source": [
    "df1[['company','drug_name']].nunique()"
   ]
  },
  {
   "cell_type": "code",
   "execution_count": 114,
   "id": "434ff488-fed0-4757-bb47-6bc86baa08ee",
   "metadata": {},
   "outputs": [
    {
     "data": {
      "text/plain": [
       "(425, 6)"
      ]
     },
     "execution_count": 114,
     "metadata": {},
     "output_type": "execute_result"
    }
   ],
   "source": [
    "df1.shape"
   ]
  },
  {
   "cell_type": "code",
   "execution_count": 120,
   "id": "86f10397-3c61-4803-b674-7e5c29bf32ec",
   "metadata": {},
   "outputs": [
    {
     "data": {
      "image/png": "[encoded data removed]",
      "text/plain": [
       "<Figure size 1000x600 with 1 Axes>"
      ]
     },
     "metadata": {},
     "output_type": "display_data"
    }
   ],
   "source": [
    "# Top 10 companies by original drug approvals\n",
    "top_companies = df1['company'].value_counts().head(10)\n",
    "\n",
    "plt.figure(figsize=(10,6))\n",
    "top_companies.plot(kind='barh', color='skyblue')\n",
    "plt.title('Top 10 Companies by Original Drug Approvals')\n",
    "plt.xlabel('Number of Approvals')\n",
    "plt.ylabel('Company')\n",
    "plt.gca().invert_yaxis()  \n",
    "plt.show()"
   ]
  },
  {
   "cell_type": "code",
   "execution_count": 128,
   "id": "e6a7b76a-70ae-43d1-8c8a-89deed4e26f3",
   "metadata": {},
   "outputs": [
    {
     "data": {
      "image/png": "[encoded data removed]",
      "text/plain": [
       "<Figure size 1200x600 with 1 Axes>"
      ]
     },
     "metadata": {},
     "output_type": "display_data"
    }
   ],
   "source": [
    "approvals_by_year = df1['submission_status_date'].dt.year.value_counts().sort_index()\n",
    "\n",
    "plt.figure(figsize=(12,6))\n",
    "approvals_by_year.plot(kind='bar', color='green')\n",
    "plt.title('Number of Drug Approvals by Year')\n",
    "plt.xlabel('Year')\n",
    "plt.ylabel('Number of Approvals')\n",
    "plt.xticks(rotation=90)\n",
    "plt.show()"
   ]
  },
  {
   "cell_type": "code",
   "execution_count": null,
   "id": "62165f90-eaa7-4cf9-a59d-0e7d380b8983",
   "metadata": {},
   "outputs": [],
   "source": [
    "df1.to_csv(\"ORIG_AP_Drugs.csv\", index=False)"
   ]
  }
 ],
 "metadata": {
  "kernelspec": {
   "display_name": "Python [conda env:base] *",
   "language": "python",
   "name": "conda-base-py"
  },
  "language_info": {
   "codemirror_mode": {
    "name": "ipython",
    "version": 3
   },
   "file_extension": ".py",
   "mimetype": "text/x-python",
   "name": "python",
   "nbconvert_exporter": "python",
   "pygments_lexer": "ipython3",
   "version": "3.12.7"
  }
 },
 "nbformat": 4,
 "nbformat_minor": 5
}
